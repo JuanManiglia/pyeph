{
 "cells": [
  {
   "cell_type": "code",
   "execution_count": 8,
   "source": [
    "import pyeph"
   ],
   "outputs": [],
   "metadata": {}
  },
  {
   "cell_type": "code",
   "execution_count": 9,
   "source": [
    "eph = pyeph.get(data=\"eph\", year=2021, period=2, base_type='individual') \n",
    "canastas = pyeph.get(data=\"canastas\") # canasta basica total y alimentaria\n",
    "adequi = pyeph.get(data=\"adulto-equivalente\") # adulto equivalente"
   ],
   "outputs": [
    {
     "output_type": "stream",
     "name": "stdout",
     "text": [
      "Obtenido con exito: base_individual_2021T2.zip \n",
      "CBT y CBA mas actualizada que se obtuvo: 2021-06 \n",
      "Obtenido con exito: adulto_equivalente.zip \n"
     ]
    },
    {
     "output_type": "stream",
     "name": "stderr",
     "text": [
      "/Users/mariagaska/eph-python/pyeph/get/basket/__init__.py:60: FutureWarning: The frame.append method is deprecated and will be removed from pandas in a future version. Use pandas.concat instead.\n",
      "  df_inicial = df_inicial.append(df_f)\n",
      "/Users/mariagaska/eph-python/pyeph/get/basket/__init__.py:60: FutureWarning: The frame.append method is deprecated and will be removed from pandas in a future version. Use pandas.concat instead.\n",
      "  df_inicial = df_inicial.append(df_f)\n"
     ]
    }
   ],
   "metadata": {}
  },
  {
   "cell_type": "code",
   "execution_count": 10,
   "source": [
    "pobreza = pyeph.Poverty(eph,canastas)"
   ],
   "outputs": [
    {
     "output_type": "stream",
     "name": "stdout",
     "text": [
      "Obtenido con exito: adulto_equivalente.zip \n"
     ]
    }
   ],
   "metadata": {}
  },
  {
   "cell_type": "code",
   "execution_count": 11,
   "source": [
    "# Pobreza por sexo \n",
    "pobreza.population(group_by='CH04')"
   ],
   "outputs": [
    {
     "output_type": "execute_result",
     "data": {
      "text/html": [
       "<div>\n",
       "<style scoped>\n",
       "    .dataframe tbody tr th:only-of-type {\n",
       "        vertical-align: middle;\n",
       "    }\n",
       "\n",
       "    .dataframe tbody tr th {\n",
       "        vertical-align: top;\n",
       "    }\n",
       "\n",
       "    .dataframe thead th {\n",
       "        text-align: right;\n",
       "    }\n",
       "</style>\n",
       "<table border=\"1\" class=\"dataframe\">\n",
       "  <thead>\n",
       "    <tr style=\"text-align: right;\">\n",
       "      <th>Indicador</th>\n",
       "      <th>Pobreza (%)</th>\n",
       "      <th>Pobreza (#)</th>\n",
       "      <th>Indigencia (%)</th>\n",
       "      <th>Indigencia (#)</th>\n",
       "    </tr>\n",
       "    <tr>\n",
       "      <th>CH04</th>\n",
       "      <th></th>\n",
       "      <th></th>\n",
       "      <th></th>\n",
       "      <th></th>\n",
       "    </tr>\n",
       "  </thead>\n",
       "  <tbody>\n",
       "    <tr>\n",
       "      <th>1</th>\n",
       "      <td>0.396</td>\n",
       "      <td>4234300.0</td>\n",
       "      <td>0.105</td>\n",
       "      <td>1118446.0</td>\n",
       "    </tr>\n",
       "    <tr>\n",
       "      <th>2</th>\n",
       "      <td>0.383</td>\n",
       "      <td>4302915.0</td>\n",
       "      <td>0.097</td>\n",
       "      <td>1085661.0</td>\n",
       "    </tr>\n",
       "  </tbody>\n",
       "</table>\n",
       "</div>"
      ],
      "text/plain": [
       "Indicador  Pobreza (%)  Pobreza (#)  Indigencia (%)  Indigencia (#)\n",
       "CH04                                                               \n",
       "1                0.396    4234300.0           0.105       1118446.0\n",
       "2                0.383    4302915.0           0.097       1085661.0"
      ]
     },
     "metadata": {},
     "execution_count": 11
    }
   ],
   "metadata": {}
  },
  {
   "cell_type": "code",
   "execution_count": 7,
   "source": [
    "# Tasa de pobreza de personas general \n",
    "pobreza.population()"
   ],
   "outputs": [
    {
     "output_type": "execute_result",
     "data": {
      "text/html": [
       "<div>\n",
       "<style scoped>\n",
       "    .dataframe tbody tr th:only-of-type {\n",
       "        vertical-align: middle;\n",
       "    }\n",
       "\n",
       "    .dataframe tbody tr th {\n",
       "        vertical-align: top;\n",
       "    }\n",
       "\n",
       "    .dataframe thead th {\n",
       "        text-align: right;\n",
       "    }\n",
       "</style>\n",
       "<table border=\"1\" class=\"dataframe\">\n",
       "  <thead>\n",
       "    <tr style=\"text-align: right;\">\n",
       "      <th>Indicador</th>\n",
       "      <th>Pobreza (%)</th>\n",
       "      <th>Pobreza (#)</th>\n",
       "      <th>Indigencia (%)</th>\n",
       "      <th>Indigencia (#)</th>\n",
       "    </tr>\n",
       "  </thead>\n",
       "  <tbody>\n",
       "    <tr>\n",
       "      <th>Valor</th>\n",
       "      <td>0.389</td>\n",
       "      <td>8537215.0</td>\n",
       "      <td>0.1</td>\n",
       "      <td>2204107.0</td>\n",
       "    </tr>\n",
       "  </tbody>\n",
       "</table>\n",
       "</div>"
      ],
      "text/plain": [
       "Indicador  Pobreza (%)  Pobreza (#)  Indigencia (%)  Indigencia (#)\n",
       "Valor            0.389    8537215.0             0.1       2204107.0"
      ]
     },
     "metadata": {},
     "execution_count": 7
    }
   ],
   "metadata": {}
  },
  {
   "cell_type": "code",
   "execution_count": 8,
   "source": [
    "# Tasa de pobreza hogares \n",
    "pobreza.household()"
   ],
   "outputs": [
    {
     "output_type": "execute_result",
     "data": {
      "text/html": [
       "<div>\n",
       "<style scoped>\n",
       "    .dataframe tbody tr th:only-of-type {\n",
       "        vertical-align: middle;\n",
       "    }\n",
       "\n",
       "    .dataframe tbody tr th {\n",
       "        vertical-align: top;\n",
       "    }\n",
       "\n",
       "    .dataframe thead th {\n",
       "        text-align: right;\n",
       "    }\n",
       "</style>\n",
       "<table border=\"1\" class=\"dataframe\">\n",
       "  <thead>\n",
       "    <tr style=\"text-align: right;\">\n",
       "      <th>Indicador</th>\n",
       "      <th>Pobreza (%)</th>\n",
       "      <th>Pobreza (#)</th>\n",
       "      <th>Indigencia (%)</th>\n",
       "      <th>Indigencia (#)</th>\n",
       "    </tr>\n",
       "  </thead>\n",
       "  <tbody>\n",
       "    <tr>\n",
       "      <th>Valor</th>\n",
       "      <td>0.291</td>\n",
       "      <td>2187536.0</td>\n",
       "      <td>0.075</td>\n",
       "      <td>566164.0</td>\n",
       "    </tr>\n",
       "  </tbody>\n",
       "</table>\n",
       "</div>"
      ],
      "text/plain": [
       "Indicador  Pobreza (%)  Pobreza (#)  Indigencia (%)  Indigencia (#)\n",
       "Valor            0.291    2187536.0           0.075        566164.0"
      ]
     },
     "metadata": {},
     "execution_count": 8
    }
   ],
   "metadata": {}
  },
  {
   "cell_type": "code",
   "execution_count": null,
   "source": [
    "mercado_laboral = pyeph"
   ],
   "outputs": [],
   "metadata": {}
  }
 ],
 "metadata": {
  "orig_nbformat": 4,
  "language_info": {
   "name": "python",
   "version": "3.9.5",
   "mimetype": "text/x-python",
   "codemirror_mode": {
    "name": "ipython",
    "version": 3
   },
   "pygments_lexer": "ipython3",
   "nbconvert_exporter": "python",
   "file_extension": ".py"
  },
  "kernelspec": {
   "name": "python3",
   "display_name": "Python 3.9.5 64-bit ('eph-python--9UuONxS-py3.9': poetry)"
  },
  "interpreter": {
   "hash": "f21b173769ec92bb175a102367cd6277c7cd84b268a4b4055a0d9a00d3a7b457"
  }
 },
 "nbformat": 4,
 "nbformat_minor": 2
}