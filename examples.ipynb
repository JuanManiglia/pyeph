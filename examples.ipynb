{
 "cells": [
  {
   "cell_type": "markdown",
   "metadata": {},
   "source": [
    "<a href=\"https://colab.research.google.com/github/institutohumai/pyeph/blob/main/examples.ipynb\"> <img src='https://colab.research.google.com/assets/colab-badge.svg' /> </a>\n",
    "<div align=\"center\"> Recordá abrir en una nueva pestaña </div>\n"
   ]
  },
  {
   "cell_type": "markdown",
   "metadata": {},
   "source": [
    "## *Instalación de la librería*"
   ]
  },
  {
   "cell_type": "code",
   "execution_count": 2,
   "metadata": {},
   "outputs": [
    {
     "name": "stdout",
     "output_type": "stream",
     "text": [
      "Collecting pyeph"
     ]
    },
    {
     "name": "stderr",
     "output_type": "stream",
     "text": [
      "WARNING: You are using pip version 22.0.3; however, version 22.1.1 is available.\n",
      "You should consider upgrading via the 'C:\\Users\\carol\\AppData\\Local\\Programs\\Python\\Python39\\python.exe -m pip install --upgrade pip' command.\n"
     ]
    },
    {
     "name": "stdout",
     "output_type": "stream",
     "text": [
      "\n",
      "  Downloading pyeph-1.1.6-py3-none-any.whl (63 kB)\n",
      "     -------------------------------------- 63.7/63.7 KB 862.0 kB/s eta 0:00:00\n",
      "Collecting ipykernel<7.0.0,>=6.13.0\n",
      "  Downloading ipykernel-6.13.0-py3-none-any.whl (131 kB)\n",
      "     ------------------------------------ 131.8/131.8 KB 646.9 kB/s eta 0:00:00\n",
      "Collecting xlrd<3.0.0,>=2.0.1\n",
      "  Downloading xlrd-2.0.1-py2.py3-none-any.whl (96 kB)\n",
      "     ---------------------------------------- 96.5/96.5 KB 1.8 MB/s eta 0:00:00\n",
      "Requirement already satisfied: pandas<2.0.0,>=1.1.5 in c:\\users\\carol\\appdata\\local\\programs\\python\\python39\\lib\\site-packages (from pyeph) (1.3.5)\n",
      "Collecting openpyxl<4.0.0,>=3.0.10\n",
      "  Downloading openpyxl-3.0.10-py2.py3-none-any.whl (242 kB)\n",
      "     -------------------------------------- 242.1/242.1 KB 3.0 MB/s eta 0:00:00\n",
      "Requirement already satisfied: wget<4.0,>=3.2 in c:\\users\\carol\\appdata\\local\\programs\\python\\python39\\lib\\site-packages (from pyeph) (3.2)\n",
      "Collecting psutil\n",
      "  Downloading psutil-5.9.1-cp39-cp39-win_amd64.whl (245 kB)\n",
      "     -------------------------------------- 245.9/245.9 KB 5.0 MB/s eta 0:00:00\n",
      "Requirement already satisfied: ipython>=7.23.1 in c:\\users\\carol\\appdata\\local\\programs\\python\\python39\\lib\\site-packages (from ipykernel<7.0.0,>=6.13.0->pyeph) (7.27.0)\n",
      "Requirement already satisfied: tornado>=6.1 in c:\\users\\carol\\appdata\\local\\programs\\python\\python39\\lib\\site-packages (from ipykernel<7.0.0,>=6.13.0->pyeph) (6.1)\n",
      "Requirement already satisfied: packaging in c:\\users\\carol\\appdata\\local\\programs\\python\\python39\\lib\\site-packages (from ipykernel<7.0.0,>=6.13.0->pyeph) (21.0)\n",
      "Requirement already satisfied: debugpy>=1.0 in c:\\users\\carol\\appdata\\local\\programs\\python\\python39\\lib\\site-packages (from ipykernel<7.0.0,>=6.13.0->pyeph) (1.4.1)\n",
      "Requirement already satisfied: traitlets>=5.1.0 in c:\\users\\carol\\appdata\\local\\programs\\python\\python39\\lib\\site-packages (from ipykernel<7.0.0,>=6.13.0->pyeph) (5.1.0)\n",
      "Requirement already satisfied: matplotlib-inline>=0.1 in c:\\users\\carol\\appdata\\local\\programs\\python\\python39\\lib\\site-packages (from ipykernel<7.0.0,>=6.13.0->pyeph) (0.1.2)\n",
      "Requirement already satisfied: jupyter-client>=6.1.12 in c:\\users\\carol\\appdata\\local\\programs\\python\\python39\\lib\\site-packages (from ipykernel<7.0.0,>=6.13.0->pyeph) (7.0.2)\n",
      "Requirement already satisfied: nest-asyncio in c:\\users\\carol\\appdata\\local\\programs\\python\\python39\\lib\\site-packages (from ipykernel<7.0.0,>=6.13.0->pyeph) (1.5.1)\n",
      "Requirement already satisfied: et-xmlfile in c:\\users\\carol\\appdata\\local\\programs\\python\\python39\\lib\\site-packages (from openpyxl<4.0.0,>=3.0.10->pyeph) (1.1.0)\n",
      "Requirement already satisfied: pytz>=2017.3 in c:\\users\\carol\\appdata\\local\\programs\\python\\python39\\lib\\site-packages (from pandas<2.0.0,>=1.1.5->pyeph) (2021.1)\n",
      "Requirement already satisfied: python-dateutil>=2.7.3 in c:\\users\\carol\\appdata\\local\\programs\\python\\python39\\lib\\site-packages (from pandas<2.0.0,>=1.1.5->pyeph) (2.8.2)\n",
      "Requirement already satisfied: numpy>=1.17.3 in c:\\users\\carol\\appdata\\local\\programs\\python\\python39\\lib\\site-packages (from pandas<2.0.0,>=1.1.5->pyeph) (1.21.2)\n",
      "Requirement already satisfied: prompt-toolkit!=3.0.0,!=3.0.1,<3.1.0,>=2.0.0 in c:\\users\\carol\\appdata\\local\\programs\\python\\python39\\lib\\site-packages (from ipython>=7.23.1->ipykernel<7.0.0,>=6.13.0->pyeph) (3.0.20)\n",
      "Requirement already satisfied: setuptools>=18.5 in c:\\users\\carol\\appdata\\local\\programs\\python\\python39\\lib\\site-packages (from ipython>=7.23.1->ipykernel<7.0.0,>=6.13.0->pyeph) (57.4.0)\n",
      "Requirement already satisfied: colorama in c:\\users\\carol\\appdata\\local\\programs\\python\\python39\\lib\\site-packages (from ipython>=7.23.1->ipykernel<7.0.0,>=6.13.0->pyeph) (0.4.4)\n",
      "Requirement already satisfied: pickleshare in c:\\users\\carol\\appdata\\local\\programs\\python\\python39\\lib\\site-packages (from ipython>=7.23.1->ipykernel<7.0.0,>=6.13.0->pyeph) (0.7.5)\n",
      "Requirement already satisfied: pygments in c:\\users\\carol\\appdata\\local\\programs\\python\\python39\\lib\\site-packages (from ipython>=7.23.1->ipykernel<7.0.0,>=6.13.0->pyeph) (2.10.0)\n",
      "Requirement already satisfied: backcall in c:\\users\\carol\\appdata\\local\\programs\\python\\python39\\lib\\site-packages (from ipython>=7.23.1->ipykernel<7.0.0,>=6.13.0->pyeph) (0.2.0)\n",
      "Requirement already satisfied: jedi>=0.16 in c:\\users\\carol\\appdata\\local\\programs\\python\\python39\\lib\\site-packages (from ipython>=7.23.1->ipykernel<7.0.0,>=6.13.0->pyeph) (0.18.0)\n",
      "Requirement already satisfied: decorator in c:\\users\\carol\\appdata\\local\\programs\\python\\python39\\lib\\site-packages (from ipython>=7.23.1->ipykernel<7.0.0,>=6.13.0->pyeph) (5.0.9)\n",
      "Requirement already satisfied: entrypoints in c:\\users\\carol\\appdata\\local\\programs\\python\\python39\\lib\\site-packages (from jupyter-client>=6.1.12->ipykernel<7.0.0,>=6.13.0->pyeph) (0.3)\n",
      "Requirement already satisfied: pyzmq>=13 in c:\\users\\carol\\appdata\\local\\programs\\python\\python39\\lib\\site-packages (from jupyter-client>=6.1.12->ipykernel<7.0.0,>=6.13.0->pyeph) (22.2.1)\n",
      "Requirement already satisfied: jupyter-core>=4.6.0 in c:\\users\\carol\\appdata\\local\\programs\\python\\python39\\lib\\site-packages (from jupyter-client>=6.1.12->ipykernel<7.0.0,>=6.13.0->pyeph) (4.7.1)\n",
      "Requirement already satisfied: six>=1.5 in c:\\users\\carol\\appdata\\local\\programs\\python\\python39\\lib\\site-packages (from python-dateutil>=2.7.3->pandas<2.0.0,>=1.1.5->pyeph) (1.16.0)\n",
      "Requirement already satisfied: pyparsing>=2.0.2 in c:\\users\\carol\\appdata\\local\\programs\\python\\python39\\lib\\site-packages (from packaging->ipykernel<7.0.0,>=6.13.0->pyeph) (2.4.7)\n",
      "Requirement already satisfied: parso<0.9.0,>=0.8.0 in c:\\users\\carol\\appdata\\local\\programs\\python\\python39\\lib\\site-packages (from jedi>=0.16->ipython>=7.23.1->ipykernel<7.0.0,>=6.13.0->pyeph) (0.8.2)\n",
      "Requirement already satisfied: pywin32>=1.0 in c:\\users\\carol\\appdata\\local\\programs\\python\\python39\\lib\\site-packages (from jupyter-core>=4.6.0->jupyter-client>=6.1.12->ipykernel<7.0.0,>=6.13.0->pyeph) (301)\n",
      "Requirement already satisfied: wcwidth in c:\\users\\carol\\appdata\\local\\programs\\python\\python39\\lib\\site-packages (from prompt-toolkit!=3.0.0,!=3.0.1,<3.1.0,>=2.0.0->ipython>=7.23.1->ipykernel<7.0.0,>=6.13.0->pyeph) (0.2.5)\n",
      "Installing collected packages: xlrd, psutil, openpyxl, ipykernel, pyeph\n",
      "  Attempting uninstall: openpyxl\n",
      "    Found existing installation: openpyxl 3.0.7\n",
      "    Uninstalling openpyxl-3.0.7:\n",
      "      Successfully uninstalled openpyxl-3.0.7\n",
      "  Attempting uninstall: ipykernel\n",
      "    Found existing installation: ipykernel 6.3.1\n",
      "    Uninstalling ipykernel-6.3.1:\n",
      "      Successfully uninstalled ipykernel-6.3.1\n",
      "Successfully installed ipykernel-6.13.0 openpyxl-3.0.10 psutil-5.9.1 pyeph-1.1.6 xlrd-2.0.1\n"
     ]
    }
   ],
   "source": [
    "!pip install pyeph"
   ]
  },
  {
   "cell_type": "code",
   "execution_count": 3,
   "metadata": {},
   "outputs": [],
   "source": [
    "import pyeph"
   ]
  },
  {
   "cell_type": "markdown",
   "metadata": {},
   "source": [
    "## *Obtención de las bases de datos*"
   ]
  },
  {
   "cell_type": "code",
   "execution_count": 4,
   "metadata": {},
   "outputs": [
    {
     "name": "stdout",
     "output_type": "stream",
     "text": [
      "Obtenido con exito: base_individual_2021T2.zip \n",
      "CBT y CBA mas actualizada que se obtuvo: 2021-12 \n",
      "Obtenido con exito: adulto_equivalente.zip \n"
     ]
    }
   ],
   "source": [
    "eph = pyeph.get(data=\"eph\", year=2021, period=2, base_type='individual') \n",
    "canastas = pyeph.get(data=\"canastas\") # canasta basica total y alimentaria\n",
    "adequi = pyeph.get(data=\"adulto-equivalente\") # adulto equivalente"
   ]
  },
  {
   "cell_type": "code",
   "execution_count": 5,
   "metadata": {},
   "outputs": [
    {
     "data": {
      "text/html": [
       "<div>\n",
       "<style scoped>\n",
       "    .dataframe tbody tr th:only-of-type {\n",
       "        vertical-align: middle;\n",
       "    }\n",
       "\n",
       "    .dataframe tbody tr th {\n",
       "        vertical-align: top;\n",
       "    }\n",
       "\n",
       "    .dataframe thead th {\n",
       "        text-align: right;\n",
       "    }\n",
       "</style>\n",
       "<table border=\"1\" class=\"dataframe\">\n",
       "  <thead>\n",
       "    <tr style=\"text-align: right;\">\n",
       "      <th></th>\n",
       "      <th>CODUSU</th>\n",
       "      <th>ANO4</th>\n",
       "      <th>TRIMESTRE</th>\n",
       "      <th>NRO_HOGAR</th>\n",
       "      <th>COMPONENTE</th>\n",
       "      <th>H15</th>\n",
       "      <th>REGION</th>\n",
       "      <th>MAS_500</th>\n",
       "      <th>AGLOMERADO</th>\n",
       "      <th>PONDERA</th>\n",
       "      <th>...</th>\n",
       "      <th>PDECIFR</th>\n",
       "      <th>ADECIFR</th>\n",
       "      <th>IPCF</th>\n",
       "      <th>DECCFR</th>\n",
       "      <th>IDECCFR</th>\n",
       "      <th>RDECCFR</th>\n",
       "      <th>GDECCFR</th>\n",
       "      <th>PDECCFR</th>\n",
       "      <th>ADECCFR</th>\n",
       "      <th>PONDIH</th>\n",
       "    </tr>\n",
       "  </thead>\n",
       "  <tbody>\n",
       "    <tr>\n",
       "      <th>0</th>\n",
       "      <td>TQRMNOPYQHMLKNCDEHJGH00699689</td>\n",
       "      <td>2021</td>\n",
       "      <td>2</td>\n",
       "      <td>1</td>\n",
       "      <td>1</td>\n",
       "      <td>1</td>\n",
       "      <td>40</td>\n",
       "      <td>S</td>\n",
       "      <td>23</td>\n",
       "      <td>214</td>\n",
       "      <td>...</td>\n",
       "      <td>NaN</td>\n",
       "      <td>5</td>\n",
       "      <td>27000</td>\n",
       "      <td>6</td>\n",
       "      <td>7.0</td>\n",
       "      <td>8</td>\n",
       "      <td>6.0</td>\n",
       "      <td>NaN</td>\n",
       "      <td>8</td>\n",
       "      <td>218</td>\n",
       "    </tr>\n",
       "    <tr>\n",
       "      <th>1</th>\n",
       "      <td>TQRMNOPYQHMLKNCDEHJGH00699689</td>\n",
       "      <td>2021</td>\n",
       "      <td>2</td>\n",
       "      <td>1</td>\n",
       "      <td>2</td>\n",
       "      <td>1</td>\n",
       "      <td>40</td>\n",
       "      <td>S</td>\n",
       "      <td>23</td>\n",
       "      <td>214</td>\n",
       "      <td>...</td>\n",
       "      <td>NaN</td>\n",
       "      <td>5</td>\n",
       "      <td>27000</td>\n",
       "      <td>6</td>\n",
       "      <td>7.0</td>\n",
       "      <td>8</td>\n",
       "      <td>6.0</td>\n",
       "      <td>NaN</td>\n",
       "      <td>8</td>\n",
       "      <td>218</td>\n",
       "    </tr>\n",
       "    <tr>\n",
       "      <th>2</th>\n",
       "      <td>TQRMNOPYSHMLKNCDEHJGH00699098</td>\n",
       "      <td>2021</td>\n",
       "      <td>2</td>\n",
       "      <td>1</td>\n",
       "      <td>1</td>\n",
       "      <td>1</td>\n",
       "      <td>40</td>\n",
       "      <td>S</td>\n",
       "      <td>23</td>\n",
       "      <td>192</td>\n",
       "      <td>...</td>\n",
       "      <td>NaN</td>\n",
       "      <td>10</td>\n",
       "      <td>46000</td>\n",
       "      <td>9</td>\n",
       "      <td>9.0</td>\n",
       "      <td>10</td>\n",
       "      <td>8.0</td>\n",
       "      <td>NaN</td>\n",
       "      <td>9</td>\n",
       "      <td>196</td>\n",
       "    </tr>\n",
       "    <tr>\n",
       "      <th>3</th>\n",
       "      <td>TQRMNOPYSHMLKNCDEHJGH00699098</td>\n",
       "      <td>2021</td>\n",
       "      <td>2</td>\n",
       "      <td>1</td>\n",
       "      <td>2</td>\n",
       "      <td>1</td>\n",
       "      <td>40</td>\n",
       "      <td>S</td>\n",
       "      <td>23</td>\n",
       "      <td>192</td>\n",
       "      <td>...</td>\n",
       "      <td>NaN</td>\n",
       "      <td>10</td>\n",
       "      <td>46000</td>\n",
       "      <td>9</td>\n",
       "      <td>9.0</td>\n",
       "      <td>10</td>\n",
       "      <td>8.0</td>\n",
       "      <td>NaN</td>\n",
       "      <td>9</td>\n",
       "      <td>196</td>\n",
       "    </tr>\n",
       "    <tr>\n",
       "      <th>4</th>\n",
       "      <td>TQRMNOPYSHMLKNCDEHJGH00699098</td>\n",
       "      <td>2021</td>\n",
       "      <td>2</td>\n",
       "      <td>1</td>\n",
       "      <td>3</td>\n",
       "      <td>1</td>\n",
       "      <td>40</td>\n",
       "      <td>S</td>\n",
       "      <td>23</td>\n",
       "      <td>192</td>\n",
       "      <td>...</td>\n",
       "      <td>NaN</td>\n",
       "      <td>10</td>\n",
       "      <td>46000</td>\n",
       "      <td>9</td>\n",
       "      <td>9.0</td>\n",
       "      <td>10</td>\n",
       "      <td>8.0</td>\n",
       "      <td>NaN</td>\n",
       "      <td>9</td>\n",
       "      <td>196</td>\n",
       "    </tr>\n",
       "    <tr>\n",
       "      <th>5</th>\n",
       "      <td>TQRMNOPYSHMLKNCDEHJGH00699098</td>\n",
       "      <td>2021</td>\n",
       "      <td>2</td>\n",
       "      <td>1</td>\n",
       "      <td>4</td>\n",
       "      <td>1</td>\n",
       "      <td>40</td>\n",
       "      <td>S</td>\n",
       "      <td>23</td>\n",
       "      <td>192</td>\n",
       "      <td>...</td>\n",
       "      <td>NaN</td>\n",
       "      <td>10</td>\n",
       "      <td>46000</td>\n",
       "      <td>9</td>\n",
       "      <td>9.0</td>\n",
       "      <td>10</td>\n",
       "      <td>8.0</td>\n",
       "      <td>NaN</td>\n",
       "      <td>9</td>\n",
       "      <td>196</td>\n",
       "    </tr>\n",
       "    <tr>\n",
       "      <th>6</th>\n",
       "      <td>TQRMNOSVQHMLKNCDEHJGH00698780</td>\n",
       "      <td>2021</td>\n",
       "      <td>2</td>\n",
       "      <td>1</td>\n",
       "      <td>1</td>\n",
       "      <td>1</td>\n",
       "      <td>40</td>\n",
       "      <td>S</td>\n",
       "      <td>23</td>\n",
       "      <td>250</td>\n",
       "      <td>...</td>\n",
       "      <td>NaN</td>\n",
       "      <td>3</td>\n",
       "      <td>10333,33</td>\n",
       "      <td>2</td>\n",
       "      <td>2.0</td>\n",
       "      <td>3</td>\n",
       "      <td>2.0</td>\n",
       "      <td>NaN</td>\n",
       "      <td>3</td>\n",
       "      <td>255</td>\n",
       "    </tr>\n",
       "    <tr>\n",
       "      <th>7</th>\n",
       "      <td>TQRMNOSVQHMLKNCDEHJGH00698780</td>\n",
       "      <td>2021</td>\n",
       "      <td>2</td>\n",
       "      <td>1</td>\n",
       "      <td>2</td>\n",
       "      <td>1</td>\n",
       "      <td>40</td>\n",
       "      <td>S</td>\n",
       "      <td>23</td>\n",
       "      <td>250</td>\n",
       "      <td>...</td>\n",
       "      <td>NaN</td>\n",
       "      <td>3</td>\n",
       "      <td>10333,33</td>\n",
       "      <td>2</td>\n",
       "      <td>2.0</td>\n",
       "      <td>3</td>\n",
       "      <td>2.0</td>\n",
       "      <td>NaN</td>\n",
       "      <td>3</td>\n",
       "      <td>255</td>\n",
       "    </tr>\n",
       "    <tr>\n",
       "      <th>8</th>\n",
       "      <td>TQRMNOSVQHMLKNCDEHJGH00698780</td>\n",
       "      <td>2021</td>\n",
       "      <td>2</td>\n",
       "      <td>1</td>\n",
       "      <td>3</td>\n",
       "      <td>0</td>\n",
       "      <td>40</td>\n",
       "      <td>S</td>\n",
       "      <td>23</td>\n",
       "      <td>250</td>\n",
       "      <td>...</td>\n",
       "      <td>NaN</td>\n",
       "      <td>3</td>\n",
       "      <td>10333,33</td>\n",
       "      <td>2</td>\n",
       "      <td>2.0</td>\n",
       "      <td>3</td>\n",
       "      <td>2.0</td>\n",
       "      <td>NaN</td>\n",
       "      <td>3</td>\n",
       "      <td>255</td>\n",
       "    </tr>\n",
       "    <tr>\n",
       "      <th>9</th>\n",
       "      <td>TQRMNOSVTHMLKNCDEHJGH00702242</td>\n",
       "      <td>2021</td>\n",
       "      <td>2</td>\n",
       "      <td>1</td>\n",
       "      <td>1</td>\n",
       "      <td>1</td>\n",
       "      <td>40</td>\n",
       "      <td>S</td>\n",
       "      <td>23</td>\n",
       "      <td>187</td>\n",
       "      <td>...</td>\n",
       "      <td>NaN</td>\n",
       "      <td>2</td>\n",
       "      <td>20000</td>\n",
       "      <td>5</td>\n",
       "      <td>5.0</td>\n",
       "      <td>6</td>\n",
       "      <td>4.0</td>\n",
       "      <td>NaN</td>\n",
       "      <td>6</td>\n",
       "      <td>188</td>\n",
       "    </tr>\n",
       "  </tbody>\n",
       "</table>\n",
       "<p>10 rows × 177 columns</p>\n",
       "</div>"
      ],
      "text/plain": [
       "                          CODUSU  ANO4  TRIMESTRE  NRO_HOGAR  COMPONENTE  H15  \\\n",
       "0  TQRMNOPYQHMLKNCDEHJGH00699689  2021          2          1           1    1   \n",
       "1  TQRMNOPYQHMLKNCDEHJGH00699689  2021          2          1           2    1   \n",
       "2  TQRMNOPYSHMLKNCDEHJGH00699098  2021          2          1           1    1   \n",
       "3  TQRMNOPYSHMLKNCDEHJGH00699098  2021          2          1           2    1   \n",
       "4  TQRMNOPYSHMLKNCDEHJGH00699098  2021          2          1           3    1   \n",
       "5  TQRMNOPYSHMLKNCDEHJGH00699098  2021          2          1           4    1   \n",
       "6  TQRMNOSVQHMLKNCDEHJGH00698780  2021          2          1           1    1   \n",
       "7  TQRMNOSVQHMLKNCDEHJGH00698780  2021          2          1           2    1   \n",
       "8  TQRMNOSVQHMLKNCDEHJGH00698780  2021          2          1           3    0   \n",
       "9  TQRMNOSVTHMLKNCDEHJGH00702242  2021          2          1           1    1   \n",
       "\n",
       "   REGION MAS_500  AGLOMERADO  PONDERA  ...  PDECIFR  ADECIFR      IPCF  \\\n",
       "0      40       S          23      214  ...      NaN        5     27000   \n",
       "1      40       S          23      214  ...      NaN        5     27000   \n",
       "2      40       S          23      192  ...      NaN       10     46000   \n",
       "3      40       S          23      192  ...      NaN       10     46000   \n",
       "4      40       S          23      192  ...      NaN       10     46000   \n",
       "5      40       S          23      192  ...      NaN       10     46000   \n",
       "6      40       S          23      250  ...      NaN        3  10333,33   \n",
       "7      40       S          23      250  ...      NaN        3  10333,33   \n",
       "8      40       S          23      250  ...      NaN        3  10333,33   \n",
       "9      40       S          23      187  ...      NaN        2     20000   \n",
       "\n",
       "   DECCFR  IDECCFR  RDECCFR  GDECCFR  PDECCFR  ADECCFR  PONDIH  \n",
       "0       6      7.0        8      6.0      NaN        8     218  \n",
       "1       6      7.0        8      6.0      NaN        8     218  \n",
       "2       9      9.0       10      8.0      NaN        9     196  \n",
       "3       9      9.0       10      8.0      NaN        9     196  \n",
       "4       9      9.0       10      8.0      NaN        9     196  \n",
       "5       9      9.0       10      8.0      NaN        9     196  \n",
       "6       2      2.0        3      2.0      NaN        3     255  \n",
       "7       2      2.0        3      2.0      NaN        3     255  \n",
       "8       2      2.0        3      2.0      NaN        3     255  \n",
       "9       5      5.0        6      4.0      NaN        6     188  \n",
       "\n",
       "[10 rows x 177 columns]"
      ]
     },
     "execution_count": 5,
     "metadata": {},
     "output_type": "execute_result"
    }
   ],
   "source": [
    "eph.head(10)"
   ]
  },
  {
   "cell_type": "markdown",
   "metadata": {},
   "source": [
    "## *Estimación de Pobreza e Indigencia*"
   ]
  },
  {
   "cell_type": "code",
   "execution_count": 6,
   "metadata": {},
   "outputs": [
    {
     "name": "stdout",
     "output_type": "stream",
     "text": [
      "Obtenido con exito: adulto_equivalente.zip \n"
     ]
    }
   ],
   "source": [
    "pobreza = pyeph.Poverty(eph,canastas)"
   ]
  },
  {
   "cell_type": "markdown",
   "metadata": {},
   "source": [
    "### *Pobreza Poblacional*"
   ]
  },
  {
   "cell_type": "code",
   "execution_count": 7,
   "metadata": {},
   "outputs": [
    {
     "data": {
      "text/html": [
       "<div>\n",
       "<style scoped>\n",
       "    .dataframe tbody tr th:only-of-type {\n",
       "        vertical-align: middle;\n",
       "    }\n",
       "\n",
       "    .dataframe tbody tr th {\n",
       "        vertical-align: top;\n",
       "    }\n",
       "\n",
       "    .dataframe thead th {\n",
       "        text-align: right;\n",
       "    }\n",
       "</style>\n",
       "<table border=\"1\" class=\"dataframe\">\n",
       "  <thead>\n",
       "    <tr style=\"text-align: right;\">\n",
       "      <th>Indicador</th>\n",
       "      <th>Pobreza (%)</th>\n",
       "      <th>Pobreza (#)</th>\n",
       "      <th>Indigencia (%)</th>\n",
       "      <th>Indigencia (#)</th>\n",
       "    </tr>\n",
       "  </thead>\n",
       "  <tbody>\n",
       "    <tr>\n",
       "      <th>Valor</th>\n",
       "      <td>0.415</td>\n",
       "      <td>11979974</td>\n",
       "      <td>0.104</td>\n",
       "      <td>2993012</td>\n",
       "    </tr>\n",
       "  </tbody>\n",
       "</table>\n",
       "</div>"
      ],
      "text/plain": [
       "Indicador  Pobreza (%)  Pobreza (#)  Indigencia (%)  Indigencia (#)\n",
       "Valor            0.415     11979974           0.104         2993012"
      ]
     },
     "execution_count": 7,
     "metadata": {},
     "output_type": "execute_result"
    }
   ],
   "source": [
    "# Tasa de pobreza de personas general \n",
    "pobreza.population()"
   ]
  },
  {
   "cell_type": "code",
   "execution_count": 8,
   "metadata": {},
   "outputs": [
    {
     "data": {
      "text/html": [
       "<div>\n",
       "<style scoped>\n",
       "    .dataframe tbody tr th:only-of-type {\n",
       "        vertical-align: middle;\n",
       "    }\n",
       "\n",
       "    .dataframe tbody tr th {\n",
       "        vertical-align: top;\n",
       "    }\n",
       "\n",
       "    .dataframe thead th {\n",
       "        text-align: right;\n",
       "    }\n",
       "</style>\n",
       "<table border=\"1\" class=\"dataframe\">\n",
       "  <thead>\n",
       "    <tr style=\"text-align: right;\">\n",
       "      <th>Indicador</th>\n",
       "      <th>Pobreza (%)</th>\n",
       "      <th>Pobreza (#)</th>\n",
       "      <th>Indigencia (%)</th>\n",
       "      <th>Indigencia (#)</th>\n",
       "    </tr>\n",
       "    <tr>\n",
       "      <th>CH04</th>\n",
       "      <th></th>\n",
       "      <th></th>\n",
       "      <th></th>\n",
       "      <th></th>\n",
       "    </tr>\n",
       "  </thead>\n",
       "  <tbody>\n",
       "    <tr>\n",
       "      <th>1</th>\n",
       "      <td>0.414</td>\n",
       "      <td>5819283</td>\n",
       "      <td>0.106</td>\n",
       "      <td>1492604</td>\n",
       "    </tr>\n",
       "    <tr>\n",
       "      <th>2</th>\n",
       "      <td>0.415</td>\n",
       "      <td>6160691</td>\n",
       "      <td>0.101</td>\n",
       "      <td>1500408</td>\n",
       "    </tr>\n",
       "  </tbody>\n",
       "</table>\n",
       "</div>"
      ],
      "text/plain": [
       "Indicador  Pobreza (%)  Pobreza (#)  Indigencia (%)  Indigencia (#)\n",
       "CH04                                                               \n",
       "1                0.414      5819283           0.106         1492604\n",
       "2                0.415      6160691           0.101         1500408"
      ]
     },
     "execution_count": 8,
     "metadata": {},
     "output_type": "execute_result"
    }
   ],
   "source": [
    "# Pobreza por sexo \n",
    "pobreza_sexo = pobreza.population(group_by='CH04')\n",
    "\n",
    "pobreza_sexo"
   ]
  },
  {
   "cell_type": "code",
   "execution_count": 9,
   "metadata": {},
   "outputs": [
    {
     "data": {
      "text/html": [
       "<div>\n",
       "<style scoped>\n",
       "    .dataframe tbody tr th:only-of-type {\n",
       "        vertical-align: middle;\n",
       "    }\n",
       "\n",
       "    .dataframe tbody tr th {\n",
       "        vertical-align: top;\n",
       "    }\n",
       "\n",
       "    .dataframe thead th {\n",
       "        text-align: right;\n",
       "    }\n",
       "</style>\n",
       "<table border=\"1\" class=\"dataframe\">\n",
       "  <thead>\n",
       "    <tr style=\"text-align: right;\">\n",
       "      <th>Indicador</th>\n",
       "      <th>Sexo</th>\n",
       "      <th>Pobreza (%)</th>\n",
       "      <th>Pobreza (#)</th>\n",
       "      <th>Indigencia (%)</th>\n",
       "      <th>Indigencia (#)</th>\n",
       "    </tr>\n",
       "  </thead>\n",
       "  <tbody>\n",
       "    <tr>\n",
       "      <th>0</th>\n",
       "      <td>varón</td>\n",
       "      <td>0.414</td>\n",
       "      <td>5819283</td>\n",
       "      <td>0.106</td>\n",
       "      <td>1492604</td>\n",
       "    </tr>\n",
       "    <tr>\n",
       "      <th>1</th>\n",
       "      <td>mujer</td>\n",
       "      <td>0.415</td>\n",
       "      <td>6160691</td>\n",
       "      <td>0.101</td>\n",
       "      <td>1500408</td>\n",
       "    </tr>\n",
       "  </tbody>\n",
       "</table>\n",
       "</div>"
      ],
      "text/plain": [
       "Indicador    Sexo  Pobreza (%)  Pobreza (#)  Indigencia (%)  Indigencia (#)\n",
       "0           varón        0.414      5819283           0.106         1492604\n",
       "1           mujer        0.415      6160691           0.101         1500408"
      ]
     },
     "execution_count": 9,
     "metadata": {},
     "output_type": "execute_result"
    }
   ],
   "source": [
    "pobreza_sexo_etiquetado = pyeph.etiquetar(pobreza_sexo)\n",
    "pobreza_sexo_etiquetado"
   ]
  },
  {
   "cell_type": "markdown",
   "metadata": {},
   "source": [
    "### *Pobreza Hogares*"
   ]
  },
  {
   "cell_type": "code",
   "execution_count": null,
   "metadata": {},
   "outputs": [],
   "source": [
    "# Tasa de pobreza hogares \n",
    "pobreza.household()"
   ]
  },
  {
   "cell_type": "markdown",
   "metadata": {},
   "source": [
    "## *Indicadores de mercado laboral*"
   ]
  },
  {
   "cell_type": "code",
   "execution_count": null,
   "metadata": {},
   "outputs": [],
   "source": [
    "mercado_laboral = pyeph.LaborMarket(eph)"
   ]
  },
  {
   "cell_type": "markdown",
   "metadata": {},
   "source": [
    "### *Desempleo*"
   ]
  },
  {
   "cell_type": "code",
   "execution_count": null,
   "metadata": {},
   "outputs": [],
   "source": [
    "# Tasa de desempleo considerando la población total por sexo\n",
    "desempleo_sexo = mercado_laboral.unemployment(group_by=\"CH04\", div_by=\"PT\")\n",
    "desempleo_sexo\n"
   ]
  },
  {
   "cell_type": "code",
   "execution_count": null,
   "metadata": {},
   "outputs": [],
   "source": [
    "desempleo_sexo_etiquetado = pyeph.etiquetar(desempleo_sexo)\n",
    "desempleo_sexo_etiquetado"
   ]
  },
  {
   "cell_type": "markdown",
   "metadata": {},
   "source": [
    "### *Empleo*"
   ]
  },
  {
   "cell_type": "code",
   "execution_count": null,
   "metadata": {},
   "outputs": [],
   "source": [
    "# Tasa de desempleo considerando la Población en Edad de Trabajar\n",
    "mercado_laboral.employment(div_by=\"PET\")"
   ]
  },
  {
   "cell_type": "code",
   "execution_count": null,
   "metadata": {},
   "outputs": [],
   "source": [
    "# Tasa de empleo considernado la Población Total por sexo\n",
    "mercado_laboral.employment(group_by=\"CH04\", div_by=\"PT\")"
   ]
  },
  {
   "cell_type": "code",
   "execution_count": null,
   "metadata": {},
   "outputs": [],
   "source": [
    "# Tasa de empleo general considerando la Población en Edad de Trabajar\n",
    "mercado_laboral.employment(div_by=\"PET\")"
   ]
  },
  {
   "cell_type": "markdown",
   "metadata": {},
   "source": [
    "### *Actividad*"
   ]
  },
  {
   "cell_type": "code",
   "execution_count": null,
   "metadata": {},
   "outputs": [],
   "source": [
    "# Tasa de actividad considerando la Población Total por sexo\n",
    "mercado_laboral.activity(group_by=\"CH04\", div_by=\"PT\")"
   ]
  },
  {
   "cell_type": "code",
   "execution_count": null,
   "metadata": {},
   "outputs": [],
   "source": []
  }
 ],
 "metadata": {
  "interpreter": {
   "hash": "5c598e6d8cfa9355ea94cd5a7fb9a54e43f80d89ce22a224806b34d2fec224ba"
  },
  "kernelspec": {
   "display_name": "Python 3.9.7 64-bit",
   "language": "python",
   "name": "python3"
  },
  "language_info": {
   "codemirror_mode": {
    "name": "ipython",
    "version": 3
   },
   "file_extension": ".py",
   "mimetype": "text/x-python",
   "name": "python",
   "nbconvert_exporter": "python",
   "pygments_lexer": "ipython3",
   "version": "3.9.7"
  }
 },
 "nbformat": 4,
 "nbformat_minor": 4
}
