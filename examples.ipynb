{
 "cells": [
  {
   "cell_type": "markdown",
   "metadata": {},
   "source": [
    "<a href=\"https://colab.research.google.com/github/institutohumai/pyeph/blob/main/examples.ipynb\"> <img src='https://colab.research.google.com/assets/colab-badge.svg' /> </a>\n",
    "<div align=\"center\"> Recordá abrir en una nueva pestaña </div>\n"
   ]
  },
  {
   "cell_type": "markdown",
   "metadata": {},
   "source": [
    "## *Instalación de la librería*"
   ]
  },
  {
   "cell_type": "code",
   "execution_count": null,
   "metadata": {},
   "outputs": [],
   "source": [
    "!pip install pyeph"
   ]
  },
  {
   "cell_type": "code",
   "execution_count": null,
   "metadata": {},
   "outputs": [],
   "source": [
    "import pyeph\n",
    "import seaborn as sns\n",
    "import matplotlib.pyplot as plt\n",
    "import pandas as pd\n",
    "from  matplotlib.ticker import FuncFormatter"
   ]
  },
  {
   "cell_type": "markdown",
   "metadata": {},
   "source": [
    "## *Obtención de las bases de datos*"
   ]
  },
  {
   "cell_type": "code",
   "execution_count": null,
   "metadata": {},
   "outputs": [],
   "source": [
    "eph = pyeph.get(data=\"eph\", year=2021, period=2, base_type='individual') \n",
    "canastas = pyeph.get(data=\"canastas\") # canasta basica total y alimentaria\n",
    "adequi = pyeph.get(data=\"adulto-equivalente\") # adulto equivalente"
   ]
  },
  {
   "cell_type": "code",
   "execution_count": null,
   "metadata": {},
   "outputs": [],
   "source": [
    "eph.head(10)"
   ]
  },
  {
   "cell_type": "markdown",
   "metadata": {},
   "source": [
    "## *Estimación de Pobreza e Indigencia*"
   ]
  },
  {
   "cell_type": "code",
   "execution_count": null,
   "metadata": {},
   "outputs": [],
   "source": [
    "pobreza = pyeph.Poverty(eph,canastas)"
   ]
  },
  {
   "cell_type": "markdown",
   "metadata": {},
   "source": [
    "### *Pobreza Poblacional*"
   ]
  },
  {
   "cell_type": "code",
   "execution_count": null,
   "metadata": {},
   "outputs": [],
   "source": [
    "# Tasa de pobreza de personas general \n",
    "pobreza.population()"
   ]
  },
  {
   "cell_type": "code",
   "execution_count": null,
   "metadata": {},
   "outputs": [],
   "source": [
    "# Pobreza por sexo \n",
    "pobreza_sexo = pobreza.population(group_by='CH04')\n",
    "\n",
    "pobreza_sexo"
   ]
  },
  {
   "cell_type": "code",
   "execution_count": null,
   "metadata": {},
   "outputs": [],
   "source": [
    "pobreza_sexo_etiquetado = pyeph.etiquetar(pobreza_sexo)\n",
    "pobreza_sexo_etiquetado"
   ]
  },
  {
   "cell_type": "markdown",
   "metadata": {},
   "source": [
    "### *Pobreza Hogares*"
   ]
  },
  {
   "cell_type": "code",
   "execution_count": null,
   "metadata": {},
   "outputs": [],
   "source": [
    "# Tasa de pobreza hogares \n",
    "pobreza.household()"
   ]
  },
  {
   "cell_type": "markdown",
   "metadata": {},
   "source": [
    "## *Indicadores de mercado laboral*"
   ]
  },
  {
   "cell_type": "code",
   "execution_count": null,
   "metadata": {},
   "outputs": [],
   "source": [
    "mercado_laboral = pyeph.LaborMarket(eph)"
   ]
  },
  {
   "cell_type": "markdown",
   "metadata": {},
   "source": [
    "### *Desempleo*"
   ]
  },
  {
   "cell_type": "code",
   "execution_count": null,
   "metadata": {},
   "outputs": [],
   "source": [
    "# Tasa de desempleo considerando la población total por sexo\n",
    "desempleo_sexo = mercado_laboral.unemployment(group_by=\"CH04\", div_by=\"PT\")\n",
    "desempleo_sexo\n"
   ]
  },
  {
   "cell_type": "code",
   "execution_count": null,
   "metadata": {},
   "outputs": [],
   "source": [
    "desempleo_sexo_etiquetado = pyeph.etiquetar(desempleo_sexo)\n",
    "desempleo_sexo_etiquetado"
   ]
  },
  {
   "cell_type": "markdown",
   "metadata": {},
   "source": [
    "### *Empleo*"
   ]
  },
  {
   "cell_type": "code",
   "execution_count": null,
   "metadata": {},
   "outputs": [],
   "source": [
    "# Tasa de desempleo considerando la Población en Edad de Trabajar\n",
    "mercado_laboral.employment(div_by=\"PET\")"
   ]
  },
  {
   "cell_type": "code",
   "execution_count": null,
   "metadata": {},
   "outputs": [],
   "source": [
    "# Tasa de empleo considernado la Población Total por sexo\n",
    "mercado_laboral.employment(group_by=\"CH04\", div_by=\"PT\")"
   ]
  },
  {
   "cell_type": "code",
   "execution_count": null,
   "metadata": {},
   "outputs": [],
   "source": [
    "# Tasa de empleo general considerando la Población en Edad de Trabajar\n",
    "mercado_laboral.employment(div_by=\"PET\")"
   ]
  },
  {
   "cell_type": "markdown",
   "metadata": {},
   "source": [
    "### *Actividad*"
   ]
  },
  {
   "cell_type": "code",
   "execution_count": null,
   "metadata": {},
   "outputs": [],
   "source": [
    "# Tasa de actividad considerando la Población Total por sexo\n",
    "mercado_laboral.activity(group_by=\"CH04\", div_by=\"PT\")"
   ]
  },
  {
   "cell_type": "markdown",
   "metadata": {},
   "source": [
    "### *Vivienda*\n",
    "\n",
    "Esta es una funcionalidad que podemos incorporar a la librería en el próximo taller.\n",
    "\n",
    "¿Cuántos propietarios hay en los aglomerados urbanos? ¿Cómo evoluciona ese número?"
   ]
  },
  {
   "cell_type": "code",
   "execution_count": null,
   "metadata": {},
   "outputs": [],
   "source": [
    "# Configuraciones generales de la visualización \n",
    "sns.set(rc = {'figure.figsize':(15,8)})"
   ]
  },
  {
   "cell_type": "code",
   "execution_count": null,
   "metadata": {},
   "outputs": [],
   "source": [
    "desde = 2004\n",
    "hasta = 2022"
   ]
  },
  {
   "cell_type": "code",
   "execution_count": null,
   "metadata": {},
   "outputs": [],
   "source": [
    "regiones = {1:'Gran Buenos Aires',40:'NOA',41:'NEA',42:'Cuyo',43:'Pampeana',44:'Patagónica'}"
   ]
  },
  {
   "cell_type": "code",
   "execution_count": null,
   "metadata": {},
   "outputs": [],
   "source": [
    "def get_propietarios_region(base, region):\n",
    "    # Filtramos la región\n",
    "    base = base.query(f'REGION=={region}')\n",
    "    # Propietarios son códigos 1 y 2 a la pregunta II7\n",
    "    prop = base.query('(II7==1) | (II7==2)')['PONDERA'].sum()\n",
    "    total = base['PONDERA'].sum()\n",
    "    return round((prop/ total) * 100,2)"
   ]
  },
  {
   "cell_type": "code",
   "execution_count": null,
   "metadata": {},
   "outputs": [],
   "source": [
    "resultados = []\n",
    "for anio in range(desde, hasta +1):\n",
    "    try:\n",
    "        base = pyeph.get(data=\"eph\", year=anio, period=4, base_type='hogar') \n",
    "        for region_ix,region_desc  in regiones.items():\n",
    "            propietarios_region = get_propietarios_region(base, region_ix)\n",
    "            resultados.append({'region':region_desc, 'año': anio, 'propietarios_region':propietarios_region})\n",
    "    except:\n",
    "        pass"
   ]
  },
  {
   "cell_type": "code",
   "execution_count": null,
   "metadata": {},
   "outputs": [],
   "source": [
    "resultados = pd.DataFrame(resultados)\n",
    "resultados_wide = resultados.pivot(\"año\", \"region\", \"propietarios_region\")"
   ]
  },
  {
   "cell_type": "code",
   "execution_count": null,
   "metadata": {},
   "outputs": [],
   "source": [
    "sns.lineplot(data=resultados_wide)\n",
    "plt.gca().xaxis.set_major_formatter(FuncFormatter(lambda x, _: int(x)));"
   ]
  },
  {
   "cell_type": "code",
   "execution_count": null,
   "metadata": {},
   "outputs": [],
   "source": [
    "# 2 = Gran La Plata\n",
    "# 3 = Bahía Blanca - Cerri\n",
    "# 4 = Gran Rosario\n",
    "# 5 = Gran Santa Fé\n",
    "# 6 = Gran Paraná\n",
    "# Encuesta Permanente de Hogares - INDEC 5\n",
    "# 6 Encuesta Permanente de Hogares - INDEC\n",
    "# 7 = Posadas\n",
    "# 8 = Gran Resistencia\n",
    "# 9 = Cdro. Rivadavia – Rada Tilly\n",
    "# 10 = Gran Mendoza\n",
    "# 12 = Corrientes\n",
    "# 13 = Gran Córdoba\n",
    "# 14 = Concordia\n",
    "# 15 = Formosa\n",
    "# 17 = Neuquén – Plottier\n",
    "# 18 = S.del Estero - La Banda\n",
    "# 19 = Jujuy - Palpalá\n",
    "# 20 = Río Gallegos\n",
    "# 22 = Gran Catamarca\n",
    "# 23 = Salta\n",
    "# 25 = La Rioja\n",
    "# 26 = San Luis - El Chorrillo\n",
    "# 27 = Gran San Juan\n",
    "# 29 = Gran Tucumán - T. Viejo\n",
    "# 30 = Santa Rosa - Toay\n",
    "# 31 = Ushuaia - Río Grande\n",
    "# 32 = Ciudad de Buenos Aires\n",
    "# 33 = Partidos del GBA\n",
    "# 34 = Mar del Plata - Batán\n",
    "# 36 = Río Cuarto\n",
    "# 38 = San Nicolás – Villa Constitución\n",
    "# 91 = Rawson – Trelew\n",
    "# 93 = Viedma – Carmen de Patagones\n",
    "aglomerados = {5:'Gran Santa Fé',32:'Ciudad de Buenos Aires'}"
   ]
  },
  {
   "cell_type": "code",
   "execution_count": null,
   "metadata": {},
   "outputs": [],
   "source": [
    "def get_propietarios_aglomerado(base, aglomerado):\n",
    "    # Filtramos la región\n",
    "    base = base.query(f'AGLOMERADO=={aglomerado}')\n",
    "    # Propietarios son códigos 1 y 2\n",
    "    prop = base.query('(II7==1) | (II7==2)')['PONDERA'].sum()\n",
    "    total = base['PONDERA'].sum()\n",
    "    return round((prop/ total) * 100,2)"
   ]
  },
  {
   "cell_type": "code",
   "execution_count": null,
   "metadata": {},
   "outputs": [],
   "source": [
    "resultados = []\n",
    "for anio in range(desde, hasta +1):\n",
    "    try:\n",
    "        base = pyeph.get(data=\"eph\", year=anio, period=4, base_type='hogar') \n",
    "        for aglomerado_ix, aglomerado_desc  in aglomerados.items():\n",
    "            propietarios_ag = get_propietarios_aglomerado(base, aglomerado_ix)\n",
    "            resultados.append({'aglomerado':aglomerado_desc, 'año': anio, 'propietarios_ag':propietarios_ag})\n",
    "    except:\n",
    "        pass"
   ]
  },
  {
   "cell_type": "code",
   "execution_count": null,
   "metadata": {},
   "outputs": [],
   "source": [
    "resultados = pd.DataFrame(resultados)\n",
    "resultados_wide = resultados.pivot(\"año\", \"aglomerado\", \"propietarios_ag\")"
   ]
  },
  {
   "cell_type": "code",
   "execution_count": null,
   "metadata": {},
   "outputs": [],
   "source": [
    "sns.lineplot(data=resultados_wide)\n",
    "plt.gca().xaxis.set_major_formatter(FuncFormatter(lambda x, _: int(x)));"
   ]
  }
 ],
 "metadata": {
  "interpreter": {
   "hash": "5c598e6d8cfa9355ea94cd5a7fb9a54e43f80d89ce22a224806b34d2fec224ba"
  },
  "kernelspec": {
   "display_name": "conda_python3",
   "language": "python",
   "name": "conda_python3"
  },
  "language_info": {
   "codemirror_mode": {
    "name": "ipython",
    "version": 3
   },
   "file_extension": ".py",
   "mimetype": "text/x-python",
   "name": "python",
   "nbconvert_exporter": "python",
   "pygments_lexer": "ipython3",
   "version": "3.6.13"
  }
 },
 "nbformat": 4,
 "nbformat_minor": 4
}
